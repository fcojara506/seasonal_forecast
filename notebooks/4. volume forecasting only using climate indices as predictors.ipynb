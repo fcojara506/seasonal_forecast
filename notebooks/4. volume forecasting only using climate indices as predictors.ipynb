{
 "cells": [
  {
   "cell_type": "code",
   "execution_count": 32,
   "id": "07b70e2f",
   "metadata": {},
   "outputs": [],
   "source": [
    "rm(list = ls())\n",
    "setwd(rprojroot::find_rstudio_root_file())\n",
    "source(\"base/Preprocess_data.R\")\n",
    "source(\"base/Regression_model.R\")\n",
    "source(\"base/Knn_model.R\")\n",
    "source(\"base/Export_data.R\")\n",
    "source(\"base/Scores.R\")\n",
    "\n",
    "### Forecasts\n",
    "# input data\n",
    "\n",
    "\n",
    "run_model <- function(datetime_initialisation,forecast_mode,export,...) {\n",
    "  #catchment_code <- \"5410002\"\n",
    "  #datetime_initialisation = lubridate::make_date(2016,6,1)\n",
    "  #horizon = horizon_mode(window_method = \"dynamic\", month_start = 9, month_end = 3)\n",
    "  #predictor_list <- c(\"tem_mean_6months\")\n",
    "  #remove_wys <- c(1990,1940,2013)\n",
    "  #water_units = waterunits(q = \"m^3/s\", y = \"GL\")\n",
    "  #forecast_mode <- \"both\"\n",
    "  #data_location_paths = get_default_datasets_path(meteo = \"ens30avg\", hydro = \"ERA5Ens_SKGE\")\n",
    "\n",
    "    #pre-processed data\n",
    "    data_input = preprocess_data(\n",
    "        datetime_initialisation,\n",
    "        forecast_mode,...)\n",
    "    # ensemble volume forecast\n",
    "    data_fore = forecast_vol_ensemble(\n",
    "      data_input = data_input,\n",
    "      forecast_mode = forecast_mode)\n",
    "    # # ensemble flow forecast\n",
    "    q_fore = run_q_forecast(\n",
    "      data_input = data_input,\n",
    "      data_fore = data_fore,\n",
    "      forecast_mode = forecast_mode)\n",
    "    #export results\n",
    "    output = export_data(\n",
    "      data_input = data_input,\n",
    "      data_fore = data_fore,\n",
    "      q_fore = q_fore,\n",
    "      export = export)\n",
    "  \n",
    "  return(output)\n",
    "  \n",
    "}"
   ]
  },
  {
   "cell_type": "code",
   "execution_count": 33,
   "id": "838af2fb",
   "metadata": {},
   "outputs": [
    {
     "data": {
      "text/html": [
       "<style>\n",
       ".list-inline {list-style: none; margin:0; padding: 0}\n",
       ".list-inline>li {display: inline-block}\n",
       ".list-inline>li:not(:last-child)::after {content: \"\\00b7\"; padding: 0 .5ex}\n",
       "</style>\n",
       "<ol class=list-inline><li>3414001</li><li>3421001</li><li>3430003</li><li>3820001</li><li>4302001</li><li>4311001</li><li>4313001</li><li>4320001</li><li>4501001</li><li>4503001</li><li>4511002</li><li>4513001</li><li>4515002</li><li>4522002</li><li>4531002</li><li>4703002</li><li>5100001</li><li>5101001</li><li>5200001</li><li>5401003</li><li>5410002</li><li>5411001</li><li>5414001</li><li>5707002</li><li>5710001</li><li>5721001</li><li>5722001</li><li>5722002</li><li>5730008</li><li>5741001</li><li>6003001</li><li>6008005</li><li>6013001</li><li>6027001</li><li>6028001</li><li>7103001</li><li>7104002</li><li>7112001</li><li>7115001</li><li>7317005</li><li>7321002</li><li>7330001</li><li>7350003</li><li>7354002</li><li>7355002</li><li>7358001</li><li>7381001</li><li>8104001</li><li>8106001</li></ol>\n"
      ],
      "text/latex": [
       "\\begin{enumerate*}\n",
       "\\item 3414001\n",
       "\\item 3421001\n",
       "\\item 3430003\n",
       "\\item 3820001\n",
       "\\item 4302001\n",
       "\\item 4311001\n",
       "\\item 4313001\n",
       "\\item 4320001\n",
       "\\item 4501001\n",
       "\\item 4503001\n",
       "\\item 4511002\n",
       "\\item 4513001\n",
       "\\item 4515002\n",
       "\\item 4522002\n",
       "\\item 4531002\n",
       "\\item 4703002\n",
       "\\item 5100001\n",
       "\\item 5101001\n",
       "\\item 5200001\n",
       "\\item 5401003\n",
       "\\item 5410002\n",
       "\\item 5411001\n",
       "\\item 5414001\n",
       "\\item 5707002\n",
       "\\item 5710001\n",
       "\\item 5721001\n",
       "\\item 5722001\n",
       "\\item 5722002\n",
       "\\item 5730008\n",
       "\\item 5741001\n",
       "\\item 6003001\n",
       "\\item 6008005\n",
       "\\item 6013001\n",
       "\\item 6027001\n",
       "\\item 6028001\n",
       "\\item 7103001\n",
       "\\item 7104002\n",
       "\\item 7112001\n",
       "\\item 7115001\n",
       "\\item 7317005\n",
       "\\item 7321002\n",
       "\\item 7330001\n",
       "\\item 7350003\n",
       "\\item 7354002\n",
       "\\item 7355002\n",
       "\\item 7358001\n",
       "\\item 7381001\n",
       "\\item 8104001\n",
       "\\item 8106001\n",
       "\\end{enumerate*}\n"
      ],
      "text/markdown": [
       "1. 3414001\n",
       "2. 3421001\n",
       "3. 3430003\n",
       "4. 3820001\n",
       "5. 4302001\n",
       "6. 4311001\n",
       "7. 4313001\n",
       "8. 4320001\n",
       "9. 4501001\n",
       "10. 4503001\n",
       "11. 4511002\n",
       "12. 4513001\n",
       "13. 4515002\n",
       "14. 4522002\n",
       "15. 4531002\n",
       "16. 4703002\n",
       "17. 5100001\n",
       "18. 5101001\n",
       "19. 5200001\n",
       "20. 5401003\n",
       "21. 5410002\n",
       "22. 5411001\n",
       "23. 5414001\n",
       "24. 5707002\n",
       "25. 5710001\n",
       "26. 5721001\n",
       "27. 5722001\n",
       "28. 5722002\n",
       "29. 5730008\n",
       "30. 5741001\n",
       "31. 6003001\n",
       "32. 6008005\n",
       "33. 6013001\n",
       "34. 6027001\n",
       "35. 6028001\n",
       "36. 7103001\n",
       "37. 7104002\n",
       "38. 7112001\n",
       "39. 7115001\n",
       "40. 7317005\n",
       "41. 7321002\n",
       "42. 7330001\n",
       "43. 7350003\n",
       "44. 7354002\n",
       "45. 7355002\n",
       "46. 7358001\n",
       "47. 7381001\n",
       "48. 8104001\n",
       "49. 8106001\n",
       "\n",
       "\n"
      ],
      "text/plain": [
       " [1] 3414001 3421001 3430003 3820001 4302001 4311001 4313001 4320001 4501001\n",
       "[10] 4503001 4511002 4513001 4515002 4522002 4531002 4703002 5100001 5101001\n",
       "[19] 5200001 5401003 5410002 5411001 5414001 5707002 5710001 5721001 5722001\n",
       "[28] 5722002 5730008 5741001 6003001 6008005 6013001 6027001 6028001 7103001\n",
       "[37] 7104002 7112001 7115001 7317005 7321002 7330001 7350003 7354002 7355002\n",
       "[46] 7358001 7381001 8104001 8106001"
      ]
     },
     "metadata": {},
     "output_type": "display_data"
    }
   ],
   "source": [
    "#all available catchments\n",
    "catchments_attributes_filename = \"data_input/attributes/attributes_49catchments_ChileCentral.csv\" \n",
    "cod_cuencas = read.csv(catchments_attributes_filename)$cod_cuenca\n",
    "cod_cuencas"
   ]
  },
  {
   "cell_type": "code",
   "execution_count": 40,
   "id": "3910eb31",
   "metadata": {},
   "outputs": [
    {
     "data": {
      "text/html": [
       "<style>\n",
       ".list-inline {list-style: none; margin:0; padding: 0}\n",
       ".list-inline>li {display: inline-block}\n",
       ".list-inline>li:not(:last-child)::after {content: \"\\00b7\"; padding: 0 .5ex}\n",
       "</style>\n",
       "<ol class=list-inline><li>4</li><li>5</li><li>6</li><li>7</li><li>8</li><li>9</li></ol>\n"
      ],
      "text/latex": [
       "\\begin{enumerate*}\n",
       "\\item 4\n",
       "\\item 5\n",
       "\\item 6\n",
       "\\item 7\n",
       "\\item 8\n",
       "\\item 9\n",
       "\\end{enumerate*}\n"
      ],
      "text/markdown": [
       "1. 4\n",
       "2. 5\n",
       "3. 6\n",
       "4. 7\n",
       "5. 8\n",
       "6. 9\n",
       "\n",
       "\n"
      ],
      "text/plain": [
       "[1] 4 5 6 7 8 9"
      ]
     },
     "metadata": {},
     "output_type": "display_data"
    }
   ],
   "source": [
    "#months of initialisation\n",
    "months_initialisation = seq(4,9)\n",
    "months_initialisation"
   ]
  },
  {
   "cell_type": "code",
   "execution_count": 35,
   "id": "21753af1",
   "metadata": {},
   "outputs": [
    {
     "data": {
      "text/html": [
       "<style>\n",
       ".list-inline {list-style: none; margin:0; padding: 0}\n",
       ".list-inline>li {display: inline-block}\n",
       ".list-inline>li:not(:last-child)::after {content: \"\\00b7\"; padding: 0 .5ex}\n",
       "</style>\n",
       "<ol class=list-inline><li>'MEIv2_mean_1months'</li><li>'SOI_mean_1months'</li><li>'ONI_mean_1months'</li><li>'BIENSO_mean_1months'</li><li>'MEIv2_mean_2months'</li><li>'SOI_mean_2months'</li><li>'ONI_mean_2months'</li><li>'BIENSO_mean_2months'</li></ol>\n"
      ],
      "text/latex": [
       "\\begin{enumerate*}\n",
       "\\item 'MEIv2\\_mean\\_1months'\n",
       "\\item 'SOI\\_mean\\_1months'\n",
       "\\item 'ONI\\_mean\\_1months'\n",
       "\\item 'BIENSO\\_mean\\_1months'\n",
       "\\item 'MEIv2\\_mean\\_2months'\n",
       "\\item 'SOI\\_mean\\_2months'\n",
       "\\item 'ONI\\_mean\\_2months'\n",
       "\\item 'BIENSO\\_mean\\_2months'\n",
       "\\end{enumerate*}\n"
      ],
      "text/markdown": [
       "1. 'MEIv2_mean_1months'\n",
       "2. 'SOI_mean_1months'\n",
       "3. 'ONI_mean_1months'\n",
       "4. 'BIENSO_mean_1months'\n",
       "5. 'MEIv2_mean_2months'\n",
       "6. 'SOI_mean_2months'\n",
       "7. 'ONI_mean_2months'\n",
       "8. 'BIENSO_mean_2months'\n",
       "\n",
       "\n"
      ],
      "text/plain": [
       "[1] \"MEIv2_mean_1months\"  \"SOI_mean_1months\"    \"ONI_mean_1months\"   \n",
       "[4] \"BIENSO_mean_1months\" \"MEIv2_mean_2months\"  \"SOI_mean_2months\"   \n",
       "[7] \"ONI_mean_2months\"    \"BIENSO_mean_2months\""
      ]
     },
     "metadata": {},
     "output_type": "display_data"
    }
   ],
   "source": [
    "# test climate indices\n",
    "# climate indices\n",
    "climate_indices = c(\"MEIv2\", \"SOI\", \"ONI\", \"BIENSO\")\n",
    "months_horizon = seq(1,2,1)\n",
    "climate_grid = expand.grid(climate_indices, months_horizon)\n",
    "climate_predictors = paste(climate_grid[,1], \"mean\", paste0(climate_grid[,2],\"months\"), sep = \"_\")\n",
    "climate_predictors\n"
   ]
  },
  {
   "cell_type": "code",
   "execution_count": 46,
   "id": "312795f8",
   "metadata": {},
   "outputs": [
    {
     "name": "stderr",
     "output_type": "stream",
     "text": [
      "Loading required package: hydroGOF\n",
      "\n",
      "Warning message in library(package, lib.loc = lib.loc, character.only = TRUE, logical.return = TRUE, :\n",
      "“there is no package called ‘hydroGOF’”\n"
     ]
    },
    {
     "ename": "ERROR",
     "evalue": "Error in loadNamespace(x): there is no package called ‘hydroGOF’\n",
     "output_type": "error",
     "traceback": [
      "Error in loadNamespace(x): there is no package called ‘hydroGOF’\nTraceback:\n",
      "1. run_model(catchment_code = sample(cod_cuencas, 1), datetime_initialisation = lubridate::make_date(2016, \n .     sample(months_initialisation, 1), 1), horizon = horizon_mode(window_method = \"static\", \n .     month_start = 9, month_end = 3), predictor_list = sample(climate_predictors), \n .     remove_wys = seq(1950, 1980), water_units = waterunits(q = \"m^3/s\", \n .         y = \"GL\"), forecast_mode = \"cv\", data_location_paths = get_default_datasets_path(meteo = \"ens30avg\", \n .         hydro = \"ERA5Ens_SKGE\"), export = \"scores\")",
      "2. forecast_vol_ensemble(data_input = data_input, forecast_mode = forecast_mode)   # at line 28-30 of file <text>",
      "3. forecast_vol_determinist(data_input$X_train, data_input$y_train$volume, \n .     data_input$X_test, method = method, preProcess = preProcess, \n .     forecast_mode = forecast_mode)",
      "4. cross_validation(regression_model)",
      "5. rmse_LOO(sim = y_cv, obs = obs_cv)",
      "6. loadNamespace(x)",
      "7. withRestarts(stop(cond), retry_loadNamespace = function() NULL)",
      "8. withOneRestart(expr, restarts[[1L]])",
      "9. doWithOneRestart(return(expr), restart)"
     ]
    }
   ],
   "source": [
    "run_model(     \n",
    "    catchment_code = sample(cod_cuencas,1),\n",
    "    datetime_initialisation = lubridate::make_date(2016,sample(months_initialisation,1),1),\n",
    "    horizon = horizon_mode(window_method = \"static\", month_start = 9, month_end = 3),\n",
    "    predictor_list = sample(climate_predictors),\n",
    "    remove_wys = seq(1950,1980),\n",
    "    water_units = waterunits(q = \"m^3/s\", y = \"GL\"),\n",
    "    forecast_mode = \"cv\",\n",
    "    data_location_paths = get_default_datasets_path(meteo = \"ens30avg\", hydro = \"ERA5Ens_SKGE\"),\n",
    "    export = 'scores')\n"
   ]
  },
  {
   "cell_type": "code",
   "execution_count": null,
   "id": "10e6e14f",
   "metadata": {},
   "outputs": [
    {
     "name": "stderr",
     "output_type": "stream",
     "text": [
      "also installing the dependencies ‘wk’, ‘classInt’, ‘s2’, ‘units’, ‘intervals’, ‘lwgeom’, ‘sf’, ‘sftime’, ‘spacetime’, ‘stars’, ‘FNN’, ‘gstat’, ‘automap’, ‘hydroTSM’\n",
      "\n",
      "\n",
      "Warning message in install.packages(\"hydroGOF\"):\n",
      "“installation of package ‘units’ had non-zero exit status”\n"
     ]
    }
   ],
   "source": [
    "install.packages('hydroGOF')"
   ]
  },
  {
   "cell_type": "code",
   "execution_count": 43,
   "id": "913bbe06",
   "metadata": {},
   "outputs": [
    {
     "data": {
      "text/html": [
       "<time datetime=\"2016-08-01\">2016-08-01</time>"
      ],
      "text/latex": [
       "2016-08-01"
      ],
      "text/markdown": [
       "2016-08-01"
      ],
      "text/plain": [
       "[1] \"2016-08-01\""
      ]
     },
     "metadata": {},
     "output_type": "display_data"
    }
   ],
   "source": [
    "lubridate::make_date(2016,sample(months_initialisation,1),1)"
   ]
  },
  {
   "cell_type": "code",
   "execution_count": null,
   "id": "99bbc607",
   "metadata": {},
   "outputs": [],
   "source": [
    "\n",
    "\n",
    "\n",
    "library(foreach)\n",
    "library(doParallel)\n",
    "registerDoParallel(cores = parallel::detectCores())\n",
    "\n",
    "model <-\n",
    "  foreach(month_initialisation=months_initialisation,.combine = \"c\") %:%\n",
    "  foreach(climate_predictor = climate_predictors,.combine = \"c\") %:%\n",
    "  foreach(catchment_code=cod_cuencas) %dopar% {\n",
    "\n",
    "    run_model(\n",
    "      catchment_code = catchment_code,\n",
    "      month_initialisation = month_initialisation,\n",
    "      horizon_month_start = \"sep\",\n",
    "      horizon_month_end = \"mar\",\n",
    "      horizon_strategy = \"static\",\n",
    "      predictor_list = climate_predictor,\n",
    "      wy_holdout = 2022,\n",
    "      remove_wys = seq(1950,1980),\n",
    "      units_q = \"m3/s\",\n",
    "      units_y = \"GL\",\n",
    "      mode = \"cv\",\n",
    "      export = \"scores\"\n",
    "    )\n",
    "  } %>% purrr::transpose()\n",
    "\n",
    "stopImplicitCluster()\n",
    "\n",
    "\n",
    "\n",
    "df <- cbind(rbindlist(model$info),rbindlist(model$scores))\n",
    "# modify names\n",
    "df <- dplyr::rename(df,'predictor_name' = 'predictor_list_corrected')\n",
    "\n",
    "# order columns\n",
    "df$month_initialisation <- factor(df$month_initialisation,levels = months_initialisation)\n",
    "df$predictor_name <- factor(df$predictor_name)\n",
    "df$catchment_code <- as.numeric(df$catchment_code)\n",
    "\n",
    "saveRDS(df,paste0(\"data_output/scores/RDS/model_results_\",today(),\".RDS\"))\n",
    "\n"
   ]
  },
  {
   "cell_type": "code",
   "execution_count": null,
   "id": "41973c97",
   "metadata": {},
   "outputs": [],
   "source": []
  },
  {
   "cell_type": "code",
   "execution_count": null,
   "id": "427f0641",
   "metadata": {},
   "outputs": [],
   "source": []
  },
  {
   "cell_type": "code",
   "execution_count": null,
   "id": "bc6158d0",
   "metadata": {},
   "outputs": [],
   "source": []
  },
  {
   "cell_type": "code",
   "execution_count": null,
   "id": "19e5862a",
   "metadata": {},
   "outputs": [],
   "source": []
  },
  {
   "cell_type": "code",
   "execution_count": null,
   "id": "7eee5bcc",
   "metadata": {},
   "outputs": [],
   "source": []
  },
  {
   "cell_type": "code",
   "execution_count": null,
   "id": "030f5053",
   "metadata": {},
   "outputs": [],
   "source": []
  },
  {
   "cell_type": "code",
   "execution_count": null,
   "id": "cc3225ef",
   "metadata": {},
   "outputs": [],
   "source": []
  }
 ],
 "metadata": {
  "kernelspec": {
   "display_name": "R",
   "language": "R",
   "name": "ir"
  },
  "language_info": {
   "codemirror_mode": "r",
   "file_extension": ".r",
   "mimetype": "text/x-r-source",
   "name": "R",
   "pygments_lexer": "r",
   "version": "4.2.2"
  }
 },
 "nbformat": 4,
 "nbformat_minor": 5
}
