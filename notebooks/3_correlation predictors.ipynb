{
 "cells": [
  {
   "cell_type": "code",
   "execution_count": null,
   "id": "51a9cd8f",
   "metadata": {},
   "outputs": [],
   "source": [
    "rm(list = ls())\n",
    "setwd(rprojroot::find_rstudio_root_file())\n",
    "source(\"base/Preprocess_data.R\")"
   ]
  },
  {
   "cell_type": "code",
   "execution_count": null,
   "id": "a281bb0c",
   "metadata": {},
   "outputs": [],
   "source": [
    "a = grid_pred(c(\"SOI\",\"PDO\",\"MEIv2\",\"ONI\",\"ESPI\"),-1,\"mean\")#\n",
    "c = grid_pred(c(\"STORAGE\"),1,\"last\")\n",
    "\n",
    "predictors = c(a,c)\n",
    "predictors"
   ]
  },
  {
   "cell_type": "code",
   "execution_count": null,
   "id": "e090466e",
   "metadata": {},
   "outputs": [],
   "source": [
    "#all available catchments, no data 6008005, 7317005, 7355002, 8106001\n",
    "catchments_attributes_filename = \"data_input/attributes/attributes_49catchments_ChileCentral.csv\" \n",
    "cod_cuencas = read.csv(catchments_attributes_filename)$cod_cuenca [-c(32,40,45,49)]\n",
    "cod_cuencas"
   ]
  },
  {
   "cell_type": "code",
   "execution_count": null,
   "id": "101734b9",
   "metadata": {},
   "outputs": [],
   "source": [
    "catchment_code = \"4703002\""
   ]
  },
  {
   "cell_type": "code",
   "execution_count": null,
   "id": "fda05169",
   "metadata": {},
   "outputs": [],
   "source": [
    "#input data from preprocess\n",
    "data_input <- preprocess_data(datetime_initialisation = '2022-11-01',\n",
    "                              forecast_mode = \"cv\",\n",
    "                              catchment_code = catchment_code,\n",
    "                              predictor_list = predictors)\n",
    "data_input  %>% names"
   ]
  },
  {
   "cell_type": "code",
   "execution_count": null,
   "id": "6c424d26",
   "metadata": {},
   "outputs": [],
   "source": [
    "# regression model parameters\n",
    "source(\"base/Regression_model.R\")\n",
    "library('caret')\n",
    "X_train = data_input$X_train\n",
    "y_train = data_input$y_train$volume\n",
    "resampling_method = 'none'\n",
    "preProcess = c(\"center\", \"scale\")\n",
    "method = 'lm'\n",
    "trcontrol = trainControl(method = resampling_method, savePredictions = \"all\")\n",
    "X_train  %>% names\n",
    "data_input$info$predictor_list"
   ]
  },
  {
   "cell_type": "code",
   "execution_count": null,
   "id": "079e97d8",
   "metadata": {},
   "outputs": [],
   "source": [
    "# remove correlated predictors\n",
    "cor_matrix <- cor(X_train)\n",
    "high_cor   <- findCorrelation(cor_matrix, cutoff = 0.8, verbose = F,exact = T)\n",
    "X_train_uncorr = X_train[, -high_cor]\n",
    "X_train_uncorr  %>% names"
   ]
  },
  {
   "cell_type": "code",
   "execution_count": null,
   "id": "16c8870f",
   "metadata": {},
   "outputs": [],
   "source": [
    "predictors2 = data_input$info$predictor_list[[1]][-high_cor]\n",
    "predictors2"
   ]
  },
  {
   "cell_type": "code",
   "execution_count": null,
   "id": "0b66ce25",
   "metadata": {},
   "outputs": [],
   "source": [
    "corrplot::corrplot(cor(X_train_uncorr,y_train))\n",
    "corrplot::corrplot(cor_matrix,type = 'upper',diag = F)"
   ]
  },
  {
   "cell_type": "code",
   "execution_count": null,
   "id": "c003353b",
   "metadata": {},
   "outputs": [],
   "source": [
    "predictors_comb = do.call(\"c\", lapply(seq_along(predictors2), function(i) c(combn(predictors2, i, FUN = list))))\n",
    "predictors_comb"
   ]
  },
  {
   "cell_type": "code",
   "execution_count": null,
   "id": "3ef57436",
   "metadata": {},
   "outputs": [],
   "source": [
    "#months of initialisation\n",
    "months_initialisation = seq(5,9)\n",
    "months_initialisation"
   ]
  },
  {
   "cell_type": "code",
   "execution_count": null,
   "id": "e0b92e51",
   "metadata": {},
   "outputs": [],
   "source": [
    "p1 = months_initialisation\n",
    "p2 = predictors_comb\n",
    "\n",
    "\n",
    "\n",
    "list_lengths <- function(...){\n",
    "  list_lengths <- lapply(list(...), length)\n",
    "  total_iter <- prod(unlist(list_lengths))\n",
    "  return(total_iter)\n",
    "}\n",
    "\n",
    "\n",
    "max_iter = list_lengths(p1,p2)\n",
    "max_iter"
   ]
  },
  {
   "cell_type": "code",
   "execution_count": null,
   "id": "2f738e18",
   "metadata": {},
   "outputs": [],
   "source": [
    "preProcess"
   ]
  },
  {
   "cell_type": "code",
   "execution_count": null,
   "id": "841a6e48",
   "metadata": {},
   "outputs": [],
   "source": [
    "\n",
    "i = 1\n",
    "a = list()\n",
    "\n",
    "for(month_initialisation in p1){\n",
    "for(predictor in p2){\n",
    "\n",
    "#input data from preprocess\n",
    "data_input <- preprocess_data(datetime_initialisation = lubridate::make_date(2022,month_initialisation,1),\n",
    "                              forecast_mode = \"cv\",\n",
    "                              catchment_code = catchment_code,\n",
    "                              predictor_list = predictor)\n",
    "      #model\n",
    "\n",
    "    regression_model = \n",
    "train(\n",
    "  data_input$X_train,\n",
    "  data_input$y_train$volume,\n",
    "  metric = \"RMSE\",\n",
    "  trControl = trcontrol,\n",
    "  method = method,\n",
    "  preProcess = preProcess\n",
    ")\n",
    "    \n",
    "    \n",
    "    a[[i]] = regression_model\n",
    "    i = i+1\n",
    "\n",
    "}\n",
    "}\n"
   ]
  },
  {
   "cell_type": "code",
   "execution_count": null,
   "id": "c2f0c6c7",
   "metadata": {},
   "outputs": [],
   "source": []
  },
  {
   "cell_type": "code",
   "execution_count": null,
   "id": "7ebdf6cf",
   "metadata": {},
   "outputs": [],
   "source": [
    "\n"
   ]
  },
  {
   "cell_type": "code",
   "execution_count": null,
   "id": "0eaae00a",
   "metadata": {},
   "outputs": [],
   "source": []
  },
  {
   "cell_type": "code",
   "execution_count": null,
   "id": "2c15dcab",
   "metadata": {},
   "outputs": [],
   "source": [
    "\n"
   ]
  },
  {
   "cell_type": "code",
   "execution_count": null,
   "id": "09f18273",
   "metadata": {},
   "outputs": [],
   "source": [
    "# #plot predictant histogram\n",
    "# library(ggplot2)\n",
    "# ggplot(data = (data_input$y_train))+geom_histogram(aes(x = volume),bins = 5)"
   ]
  },
  {
   "cell_type": "code",
   "execution_count": null,
   "id": "974dad90",
   "metadata": {},
   "outputs": [],
   "source": [
    "# # determine variable importance\n",
    "# index_imp = which(imp$lmg > 0.1)\n",
    "# index_imp\n",
    "# # remove predictors with low importance\n",
    "# cols = colnames(X_train_uncorr)\n",
    "\n",
    "# x_reduced <- data.frame(X_train_uncorr[,index_imp])\n",
    "# colnames(x_reduced) = cols[index_imp]\n",
    "# x_reduced  %>% names"
   ]
  }
 ],
 "metadata": {
  "kernelspec": {
   "display_name": "R",
   "language": "R",
   "name": "ir"
  },
  "language_info": {
   "codemirror_mode": "r",
   "file_extension": ".r",
   "mimetype": "text/x-r-source",
   "name": "R",
   "pygments_lexer": "r",
   "version": "4.2.2"
  }
 },
 "nbformat": 4,
 "nbformat_minor": 5
}
