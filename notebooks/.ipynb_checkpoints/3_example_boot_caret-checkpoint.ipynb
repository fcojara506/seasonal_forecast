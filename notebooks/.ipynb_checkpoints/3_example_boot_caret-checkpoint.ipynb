{
 "cells": [
  {
   "cell_type": "code",
   "execution_count": 41,
   "id": "cb3ac7fd",
   "metadata": {},
   "outputs": [
    {
     "data": {
      "text/html": [
       "<table class=\"dataframe\">\n",
       "<caption>A data.frame: 6 × 3</caption>\n",
       "<thead>\n",
       "\t<tr><th></th><th scope=col>y</th><th scope=col>x1</th><th scope=col>x2</th></tr>\n",
       "\t<tr><th></th><th scope=col>&lt;dbl&gt;</th><th scope=col>&lt;dbl&gt;</th><th scope=col>&lt;dbl&gt;</th></tr>\n",
       "</thead>\n",
       "<tbody>\n",
       "\t<tr><th scope=row>1</th><td>0.9796743</td><td>3.013423</td><td>-1.8273896</td></tr>\n",
       "\t<tr><th scope=row>2</th><td>0.6939433</td><td>1.723439</td><td> 0.3810238</td></tr>\n",
       "\t<tr><th scope=row>3</th><td>0.9728394</td><td>3.161450</td><td>-1.2712498</td></tr>\n",
       "\t<tr><th scope=row>4</th><td>0.9878262</td><td>3.257295</td><td>-2.1736566</td></tr>\n",
       "\t<tr><th scope=row>5</th><td>0.9984042</td><td>1.534666</td><td>-6.8801740</td></tr>\n",
       "\t<tr><th scope=row>6</th><td>0.7773927</td><td>1.289246</td><td>-0.7016133</td></tr>\n",
       "</tbody>\n",
       "</table>\n"
      ],
      "text/latex": [
       "A data.frame: 6 × 3\n",
       "\\begin{tabular}{r|lll}\n",
       "  & y & x1 & x2\\\\\n",
       "  & <dbl> & <dbl> & <dbl>\\\\\n",
       "\\hline\n",
       "\t1 & 0.9796743 & 3.013423 & -1.8273896\\\\\n",
       "\t2 & 0.6939433 & 1.723439 &  0.3810238\\\\\n",
       "\t3 & 0.9728394 & 3.161450 & -1.2712498\\\\\n",
       "\t4 & 0.9878262 & 3.257295 & -2.1736566\\\\\n",
       "\t5 & 0.9984042 & 1.534666 & -6.8801740\\\\\n",
       "\t6 & 0.7773927 & 1.289246 & -0.7016133\\\\\n",
       "\\end{tabular}\n"
      ],
      "text/markdown": [
       "\n",
       "A data.frame: 6 × 3\n",
       "\n",
       "| <!--/--> | y &lt;dbl&gt; | x1 &lt;dbl&gt; | x2 &lt;dbl&gt; |\n",
       "|---|---|---|---|\n",
       "| 1 | 0.9796743 | 3.013423 | -1.8273896 |\n",
       "| 2 | 0.6939433 | 1.723439 |  0.3810238 |\n",
       "| 3 | 0.9728394 | 3.161450 | -1.2712498 |\n",
       "| 4 | 0.9878262 | 3.257295 | -2.1736566 |\n",
       "| 5 | 0.9984042 | 1.534666 | -6.8801740 |\n",
       "| 6 | 0.7773927 | 1.289246 | -0.7016133 |\n",
       "\n"
      ],
      "text/plain": [
       "  y         x1       x2        \n",
       "1 0.9796743 3.013423 -1.8273896\n",
       "2 0.6939433 1.723439  0.3810238\n",
       "3 0.9728394 3.161450 -1.2712498\n",
       "4 0.9878262 3.257295 -2.1736566\n",
       "5 0.9984042 1.534666 -6.8801740\n",
       "6 0.7773927 1.289246 -0.7016133"
      ]
     },
     "metadata": {},
     "output_type": "display_data"
    }
   ],
   "source": [
    "rm(list = ls())\n",
    "library(caret)\n",
    "library(boot)\n",
    "library(stats)\n",
    "library(dplyr)\n",
    "\n",
    "n <- 100L\n",
    "\n",
    "x1 <- rnorm(n, 2.0, 0.6)\n",
    "x2 <- rnorm(n, -1.0, 2)\n",
    "y <-  plogis(-0.6 + 1.0 * x1 - 0.8 * x2)\n",
    "\n",
    "dat <- data.frame(y, x1, x2)\n",
    "dat  %>% head()"
   ]
  },
  {
   "cell_type": "code",
   "execution_count": null,
   "id": "905fbc48",
   "metadata": {},
   "outputs": [],
   "source": []
  },
  {
   "cell_type": "code",
   "execution_count": 42,
   "id": "46f357de",
   "metadata": {},
   "outputs": [
    {
     "data": {
      "text/plain": [
       "\n",
       "Call:\n",
       "lm(formula = y ~ ., data = dat)\n",
       "\n",
       "Coefficients:\n",
       "(Intercept)           x1           x2  \n",
       "     0.4942       0.1129      -0.0855  \n"
      ]
     },
     "metadata": {},
     "output_type": "display_data"
    }
   ],
   "source": []
  },
  {
   "cell_type": "code",
   "execution_count": 44,
   "id": "83675e52",
   "metadata": {},
   "outputs": [],
   "source": [
    "caretMod <- caret::train(y ~ .,data = dat, \n",
    "                  method = \"lm\")"
   ]
  },
  {
   "cell_type": "code",
   "execution_count": 47,
   "id": "a88adf81",
   "metadata": {},
   "outputs": [
    {
     "name": "stderr",
     "output_type": "stream",
     "text": [
      "Warning message in eval(expr, envir, enclos):\n",
      "“restarting interrupted promise evaluation”\n",
      "Warning message in eval(expr, envir, enclos):\n",
      "“internal error -3 in R_decompress1”\n"
     ]
    },
    {
     "ename": "ERROR",
     "evalue": "Error in eval(expr, envir, enclos): lazy-load database '/Users/Francisco/opt/anaconda3/envs/r4/lib/R/library/boot/R/boot.rdb' is corrupt\n",
     "output_type": "error",
     "traceback": [
      "Error in eval(expr, envir, enclos): lazy-load database '/Users/Francisco/opt/anaconda3/envs/r4/lib/R/library/boot/R/boot.rdb' is corrupt\nTraceback:\n"
     ]
    }
   ],
   "source": [
    "library(boot)\n",
    "bootSamples <- boot(dat, function(data, idx) {\n",
    "  bootstrapData <- data[idx, ]\n",
    "  bootstrapMod <- train(y ~ ., \n",
    "                        data = bootstrapData, \n",
    "                        method = \"lm\", \n",
    "                        trControl = trainControl(method = \"none\"),\n",
    "                        tuneGrid = caretMod$bestTune)\n",
    "  \n",
    "  as.vector(coef(bootstrapMod$finalModel, caretMod$bestTune$intersection))\n",
    "}, 500L)\n",
    "\n",
    "bootSamples"
   ]
  }
 ],
 "metadata": {
  "kernelspec": {
   "display_name": "R",
   "language": "R",
   "name": "ir"
  },
  "language_info": {
   "codemirror_mode": "r",
   "file_extension": ".r",
   "mimetype": "text/x-r-source",
   "name": "R",
   "pygments_lexer": "r",
   "version": "4.2.2"
  }
 },
 "nbformat": 4,
 "nbformat_minor": 5
}
