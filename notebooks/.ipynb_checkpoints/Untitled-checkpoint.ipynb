{
 "cells": [
  {
   "cell_type": "code",
   "execution_count": 1,
   "id": "e5ef9dd0",
   "metadata": {},
   "outputs": [],
   "source": [
    "options(repr.plot.width=15, repr.plot.height=8,repr.plot.res = 200)\n",
    "\n",
    "library(ggplot2)\n",
    "# Basic scatter plot\n",
    "#ggplot(mtcars, aes(x=wt, y=mpg)) + geom_point()\n"
   ]
  },
  {
   "cell_type": "code",
   "execution_count": 5,
   "id": "0d5d7b78",
   "metadata": {},
   "outputs": [
    {
     "name": "stdout",
     "output_type": "stream",
     "text": [
      "  |                                                                      |   0%\n"
     ]
    }
   ],
   "source": [
    "library('foreach')\n",
    "library('utils')\n",
    "library('doSNOW')\n",
    "\n",
    "pb <- txtProgressBar(max = 100,style=3)\n",
    "opts = list(progress = function(n) setTxtProgressBar(pb, n))\n",
    "          \n",
    "\n",
    "\n",
    " a= foreach(catchment_code=1:100,.options.snow=opts) %do% {\n",
    "      Sys.sleep(0.01)\n",
    "      \n",
    "  }\n",
    " close(pb)          "
   ]
  },
  {
   "cell_type": "code",
   "execution_count": null,
   "id": "a658c83a",
   "metadata": {},
   "outputs": [],
   "source": [
    "library('devtools')\n",
    "install_github(\"franapoli/pbarETA\")"
   ]
  }
 ],
 "metadata": {
  "kernelspec": {
   "display_name": "R",
   "language": "R",
   "name": "ir"
  },
  "language_info": {
   "codemirror_mode": "r",
   "file_extension": ".r",
   "mimetype": "text/x-r-source",
   "name": "R",
   "pygments_lexer": "r",
   "version": "4.2.2"
  }
 },
 "nbformat": 4,
 "nbformat_minor": 5
}
