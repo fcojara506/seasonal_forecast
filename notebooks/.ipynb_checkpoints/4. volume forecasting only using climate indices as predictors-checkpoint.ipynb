{
 "cells": [
  {
   "cell_type": "code",
   "execution_count": 1,
   "id": "71e35d7c",
   "metadata": {},
   "outputs": [
    {
     "name": "stderr",
     "output_type": "stream",
     "text": [
      "Warning message in file(filename, \"r\", encoding = encoding):\n",
      "“cannot open file 'utils/run_model_function.R': No such file or directory”\n"
     ]
    },
    {
     "ename": "ERROR",
     "evalue": "Error in file(filename, \"r\", encoding = encoding): cannot open the connection\n",
     "output_type": "error",
     "traceback": [
      "Error in file(filename, \"r\", encoding = encoding): cannot open the connection\nTraceback:\n",
      "1. source(\"utils/run_model_function.R\")",
      "2. file(filename, \"r\", encoding = encoding)"
     ]
    }
   ],
   "source": [
    "rm(list = ls())\n",
    "source(\"utils/run_model_function.R\")"
   ]
  },
  {
   "cell_type": "code",
   "execution_count": null,
   "id": "7d7f210a",
   "metadata": {},
   "outputs": [],
   "source": [
    "#test catchments\n",
    "catchments_attributes_filename = \"data_input/attributes/attributes_49catchments_ChileCentral.feather\" \n",
    "cod_cuencas = feather::read_feather(catchments_attributes_filename)$cod_cuenca\n",
    "#test months initial\n",
    "months_initialisation = c('abr','may','jun','jul','ago','sep')\n",
    "\n",
    "# test climate indices\n",
    "# climate indices\n",
    "climate_indices = c(\"MEIv2\", \"SOI\", \"ONI\", \"BIENSO\")\n",
    "months_horizon = seq(1,6,1)\n",
    "climate_grid = expand.grid(climate_indices, months_horizon)\n",
    "climate_predictors = paste(climate_grid[,1], \"mean\", paste0(climate_grid[,2],\"months\"), sep = \"_\")\n",
    "\n",
    "\n",
    "library(foreach)\n",
    "library(doParallel)\n",
    "registerDoParallel(cores = parallel::detectCores())\n",
    "\n",
    "model <-\n",
    "  foreach(month_initialisation=months_initialisation,.combine = \"c\") %:%\n",
    "  foreach(climate_predictor = climate_predictors,.combine = \"c\") %:%\n",
    "  foreach(catchment_code=cod_cuencas) %dopar% {\n",
    "\n",
    "    run_model(\n",
    "      catchment_code = catchment_code,\n",
    "      month_initialisation = month_initialisation,\n",
    "      horizon_month_start = \"sep\",\n",
    "      horizon_month_end = \"mar\",\n",
    "      horizon_strategy = \"static\",\n",
    "      predictor_list = climate_predictor,\n",
    "      wy_holdout = 2022,\n",
    "      remove_wys = seq(1950,1980),\n",
    "      units_q = \"m3/s\",\n",
    "      units_y = \"GL\",\n",
    "      mode = \"cv\",\n",
    "      export = \"scores\"\n",
    "    )\n",
    "  } %>% purrr::transpose()\n",
    "\n",
    "stopImplicitCluster()\n",
    "\n",
    "\n",
    "\n",
    "df <- cbind(rbindlist(model$info),rbindlist(model$scores))\n",
    "# modify names\n",
    "df <- dplyr::rename(df,'predictor_name' = 'predictor_list_corrected')\n",
    "\n",
    "# order columns\n",
    "df$month_initialisation <- factor(df$month_initialisation,levels = months_initialisation)\n",
    "df$predictor_name <- factor(df$predictor_name)\n",
    "df$catchment_code <- as.numeric(df$catchment_code)\n",
    "\n",
    "saveRDS(df,paste0(\"data_output/scores/RDS/model_results_\",today(),\".RDS\"))\n",
    "\n"
   ]
  },
  {
   "cell_type": "code",
   "execution_count": null,
   "id": "0150ebec",
   "metadata": {},
   "outputs": [],
   "source": []
  },
  {
   "cell_type": "code",
   "execution_count": null,
   "id": "d74748d3",
   "metadata": {},
   "outputs": [],
   "source": []
  },
  {
   "cell_type": "code",
   "execution_count": null,
   "id": "59b2efb7",
   "metadata": {},
   "outputs": [],
   "source": []
  },
  {
   "cell_type": "code",
   "execution_count": null,
   "id": "f4a3801c",
   "metadata": {},
   "outputs": [],
   "source": []
  },
  {
   "cell_type": "code",
   "execution_count": null,
   "id": "027e840c",
   "metadata": {},
   "outputs": [],
   "source": []
  },
  {
   "cell_type": "code",
   "execution_count": null,
   "id": "0c157a13",
   "metadata": {},
   "outputs": [],
   "source": []
  },
  {
   "cell_type": "code",
   "execution_count": null,
   "id": "5284c31b",
   "metadata": {},
   "outputs": [],
   "source": []
  }
 ],
 "metadata": {
  "kernelspec": {
   "display_name": "R",
   "language": "R",
   "name": "ir"
  },
  "language_info": {
   "codemirror_mode": "r",
   "file_extension": ".r",
   "mimetype": "text/x-r-source",
   "name": "R",
   "pygments_lexer": "r",
   "version": "4.2.2"
  }
 },
 "nbformat": 4,
 "nbformat_minor": 5
}
